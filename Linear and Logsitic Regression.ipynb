{
 "cells": [
  {
   "cell_type": "markdown",
   "metadata": {},
   "source": [
    "## Project 1: Linear and Logistic Regression "
   ]
  },
  {
   "cell_type": "code",
   "execution_count": 1,
   "metadata": {},
   "outputs": [],
   "source": [
    "import pandas as pd\n",
    "import numpy as np\n",
    "import matplotlib.pyplot as plt\n",
    "%matplotlib inline"
   ]
  },
  {
   "cell_type": "code",
   "execution_count": 2,
   "metadata": {},
   "outputs": [
    {
     "data": {
      "text/html": [
       "<div>\n",
       "<style scoped>\n",
       "    .dataframe tbody tr th:only-of-type {\n",
       "        vertical-align: middle;\n",
       "    }\n",
       "\n",
       "    .dataframe tbody tr th {\n",
       "        vertical-align: top;\n",
       "    }\n",
       "\n",
       "    .dataframe thead th {\n",
       "        text-align: right;\n",
       "    }\n",
       "</style>\n",
       "<table border=\"1\" class=\"dataframe\">\n",
       "  <thead>\n",
       "    <tr style=\"text-align: right;\">\n",
       "      <th></th>\n",
       "      <th>MWG</th>\n",
       "      <th>NWG</th>\n",
       "      <th>KWG</th>\n",
       "      <th>MDIMC</th>\n",
       "      <th>NDIMC</th>\n",
       "      <th>MDIMA</th>\n",
       "      <th>NDIMB</th>\n",
       "      <th>KWI</th>\n",
       "      <th>VWM</th>\n",
       "      <th>VWN</th>\n",
       "      <th>STRM</th>\n",
       "      <th>STRN</th>\n",
       "      <th>SA</th>\n",
       "      <th>SB</th>\n",
       "      <th>Run1 (ms)</th>\n",
       "      <th>Run2 (ms)</th>\n",
       "      <th>Run3 (ms)</th>\n",
       "      <th>Run4 (ms)</th>\n",
       "    </tr>\n",
       "  </thead>\n",
       "  <tbody>\n",
       "    <tr>\n",
       "      <td>0</td>\n",
       "      <td>16</td>\n",
       "      <td>16</td>\n",
       "      <td>16</td>\n",
       "      <td>8</td>\n",
       "      <td>8</td>\n",
       "      <td>8</td>\n",
       "      <td>8</td>\n",
       "      <td>2</td>\n",
       "      <td>1</td>\n",
       "      <td>1</td>\n",
       "      <td>0</td>\n",
       "      <td>0</td>\n",
       "      <td>0</td>\n",
       "      <td>0</td>\n",
       "      <td>115.26</td>\n",
       "      <td>115.87</td>\n",
       "      <td>118.55</td>\n",
       "      <td>115.80</td>\n",
       "    </tr>\n",
       "    <tr>\n",
       "      <td>1</td>\n",
       "      <td>16</td>\n",
       "      <td>16</td>\n",
       "      <td>16</td>\n",
       "      <td>8</td>\n",
       "      <td>8</td>\n",
       "      <td>8</td>\n",
       "      <td>8</td>\n",
       "      <td>2</td>\n",
       "      <td>1</td>\n",
       "      <td>1</td>\n",
       "      <td>0</td>\n",
       "      <td>0</td>\n",
       "      <td>0</td>\n",
       "      <td>1</td>\n",
       "      <td>78.13</td>\n",
       "      <td>78.25</td>\n",
       "      <td>79.25</td>\n",
       "      <td>79.19</td>\n",
       "    </tr>\n",
       "    <tr>\n",
       "      <td>2</td>\n",
       "      <td>16</td>\n",
       "      <td>16</td>\n",
       "      <td>16</td>\n",
       "      <td>8</td>\n",
       "      <td>8</td>\n",
       "      <td>8</td>\n",
       "      <td>8</td>\n",
       "      <td>2</td>\n",
       "      <td>1</td>\n",
       "      <td>1</td>\n",
       "      <td>0</td>\n",
       "      <td>0</td>\n",
       "      <td>1</td>\n",
       "      <td>0</td>\n",
       "      <td>79.84</td>\n",
       "      <td>80.69</td>\n",
       "      <td>80.76</td>\n",
       "      <td>80.97</td>\n",
       "    </tr>\n",
       "    <tr>\n",
       "      <td>3</td>\n",
       "      <td>16</td>\n",
       "      <td>16</td>\n",
       "      <td>16</td>\n",
       "      <td>8</td>\n",
       "      <td>8</td>\n",
       "      <td>8</td>\n",
       "      <td>8</td>\n",
       "      <td>2</td>\n",
       "      <td>1</td>\n",
       "      <td>1</td>\n",
       "      <td>0</td>\n",
       "      <td>0</td>\n",
       "      <td>1</td>\n",
       "      <td>1</td>\n",
       "      <td>84.32</td>\n",
       "      <td>89.90</td>\n",
       "      <td>86.75</td>\n",
       "      <td>85.58</td>\n",
       "    </tr>\n",
       "    <tr>\n",
       "      <td>4</td>\n",
       "      <td>16</td>\n",
       "      <td>16</td>\n",
       "      <td>16</td>\n",
       "      <td>8</td>\n",
       "      <td>8</td>\n",
       "      <td>8</td>\n",
       "      <td>8</td>\n",
       "      <td>2</td>\n",
       "      <td>1</td>\n",
       "      <td>1</td>\n",
       "      <td>0</td>\n",
       "      <td>1</td>\n",
       "      <td>0</td>\n",
       "      <td>0</td>\n",
       "      <td>115.13</td>\n",
       "      <td>121.98</td>\n",
       "      <td>122.73</td>\n",
       "      <td>114.81</td>\n",
       "    </tr>\n",
       "  </tbody>\n",
       "</table>\n",
       "</div>"
      ],
      "text/plain": [
       "   MWG  NWG  KWG  MDIMC  NDIMC  MDIMA  NDIMB  KWI  VWM  VWN  STRM  STRN  SA  \\\n",
       "0   16   16   16      8      8      8      8    2    1    1     0     0   0   \n",
       "1   16   16   16      8      8      8      8    2    1    1     0     0   0   \n",
       "2   16   16   16      8      8      8      8    2    1    1     0     0   1   \n",
       "3   16   16   16      8      8      8      8    2    1    1     0     0   1   \n",
       "4   16   16   16      8      8      8      8    2    1    1     0     1   0   \n",
       "\n",
       "   SB  Run1 (ms)  Run2 (ms)  Run3 (ms)  Run4 (ms)  \n",
       "0   0     115.26     115.87     118.55     115.80  \n",
       "1   1      78.13      78.25      79.25      79.19  \n",
       "2   0      79.84      80.69      80.76      80.97  \n",
       "3   1      84.32      89.90      86.75      85.58  \n",
       "4   0     115.13     121.98     122.73     114.81  "
      ]
     },
     "execution_count": 2,
     "metadata": {},
     "output_type": "execute_result"
    }
   ],
   "source": [
    "data= pd.read_csv(\"sgemm_product.csv\")\n",
    "data.head()"
   ]
  },
  {
   "cell_type": "markdown",
   "metadata": {},
   "source": [
    "## Checking Levels"
   ]
  },
  {
   "cell_type": "code",
   "execution_count": 3,
   "metadata": {},
   "outputs": [
    {
     "name": "stdout",
     "output_type": "stream",
     "text": [
      "128    99808\n",
      "64     75584\n",
      "32     47264\n",
      "16     18944\n",
      "Name: MWG, dtype: int64\n",
      "128    99808\n",
      "64     75584\n",
      "32     47264\n",
      "16     18944\n",
      "Name: NWG, dtype: int64\n",
      "32    143648\n",
      "16     97952\n",
      "Name: KWG, dtype: int64\n",
      "8     124928\n",
      "16     85376\n",
      "32     31296\n",
      "Name: MDIMC, dtype: int64\n",
      "8     124928\n",
      "16     85376\n",
      "32     31296\n",
      "Name: NDIMC, dtype: int64\n",
      "16    92352\n",
      "8     85696\n",
      "32    63552\n",
      "Name: MDIMA, dtype: int64\n",
      "16    92352\n",
      "8     85696\n",
      "32    63552\n",
      "Name: NDIMB, dtype: int64\n",
      "8    120800\n",
      "2    120800\n",
      "Name: KWI, dtype: int64\n",
      "1    99808\n",
      "2    75584\n",
      "4    47264\n",
      "8    18944\n",
      "Name: VWM, dtype: int64\n",
      "1    99808\n",
      "2    75584\n",
      "4    47264\n",
      "8    18944\n",
      "Name: VWN, dtype: int64\n",
      "1    120800\n",
      "0    120800\n",
      "Name: STRM, dtype: int64\n",
      "1    120800\n",
      "0    120800\n",
      "Name: STRN, dtype: int64\n",
      "1    120800\n",
      "0    120800\n",
      "Name: SA, dtype: int64\n",
      "1    120800\n",
      "0    120800\n",
      "Name: SB, dtype: int64\n"
     ]
    }
   ],
   "source": [
    "for i in data.columns[:14]:\n",
    "    print(data[i].value_counts())"
   ]
  },
  {
   "cell_type": "markdown",
   "metadata": {},
   "source": [
    "## Averaging Run Values"
   ]
  },
  {
   "cell_type": "code",
   "execution_count": 4,
   "metadata": {},
   "outputs": [
    {
     "data": {
      "text/html": [
       "<div>\n",
       "<style scoped>\n",
       "    .dataframe tbody tr th:only-of-type {\n",
       "        vertical-align: middle;\n",
       "    }\n",
       "\n",
       "    .dataframe tbody tr th {\n",
       "        vertical-align: top;\n",
       "    }\n",
       "\n",
       "    .dataframe thead th {\n",
       "        text-align: right;\n",
       "    }\n",
       "</style>\n",
       "<table border=\"1\" class=\"dataframe\">\n",
       "  <thead>\n",
       "    <tr style=\"text-align: right;\">\n",
       "      <th></th>\n",
       "      <th>MWG</th>\n",
       "      <th>NWG</th>\n",
       "      <th>KWG</th>\n",
       "      <th>MDIMC</th>\n",
       "      <th>NDIMC</th>\n",
       "      <th>MDIMA</th>\n",
       "      <th>NDIMB</th>\n",
       "      <th>KWI</th>\n",
       "      <th>VWM</th>\n",
       "      <th>VWN</th>\n",
       "      <th>STRM</th>\n",
       "      <th>STRN</th>\n",
       "      <th>SA</th>\n",
       "      <th>SB</th>\n",
       "      <th>Avg_Run</th>\n",
       "    </tr>\n",
       "  </thead>\n",
       "  <tbody>\n",
       "    <tr>\n",
       "      <td>0</td>\n",
       "      <td>16</td>\n",
       "      <td>16</td>\n",
       "      <td>16</td>\n",
       "      <td>8</td>\n",
       "      <td>8</td>\n",
       "      <td>8</td>\n",
       "      <td>8</td>\n",
       "      <td>2</td>\n",
       "      <td>1</td>\n",
       "      <td>1</td>\n",
       "      <td>0</td>\n",
       "      <td>0</td>\n",
       "      <td>0</td>\n",
       "      <td>0</td>\n",
       "      <td>116.3700</td>\n",
       "    </tr>\n",
       "    <tr>\n",
       "      <td>1</td>\n",
       "      <td>16</td>\n",
       "      <td>16</td>\n",
       "      <td>16</td>\n",
       "      <td>8</td>\n",
       "      <td>8</td>\n",
       "      <td>8</td>\n",
       "      <td>8</td>\n",
       "      <td>2</td>\n",
       "      <td>1</td>\n",
       "      <td>1</td>\n",
       "      <td>0</td>\n",
       "      <td>0</td>\n",
       "      <td>0</td>\n",
       "      <td>1</td>\n",
       "      <td>78.7050</td>\n",
       "    </tr>\n",
       "    <tr>\n",
       "      <td>2</td>\n",
       "      <td>16</td>\n",
       "      <td>16</td>\n",
       "      <td>16</td>\n",
       "      <td>8</td>\n",
       "      <td>8</td>\n",
       "      <td>8</td>\n",
       "      <td>8</td>\n",
       "      <td>2</td>\n",
       "      <td>1</td>\n",
       "      <td>1</td>\n",
       "      <td>0</td>\n",
       "      <td>0</td>\n",
       "      <td>1</td>\n",
       "      <td>0</td>\n",
       "      <td>80.5650</td>\n",
       "    </tr>\n",
       "    <tr>\n",
       "      <td>3</td>\n",
       "      <td>16</td>\n",
       "      <td>16</td>\n",
       "      <td>16</td>\n",
       "      <td>8</td>\n",
       "      <td>8</td>\n",
       "      <td>8</td>\n",
       "      <td>8</td>\n",
       "      <td>2</td>\n",
       "      <td>1</td>\n",
       "      <td>1</td>\n",
       "      <td>0</td>\n",
       "      <td>0</td>\n",
       "      <td>1</td>\n",
       "      <td>1</td>\n",
       "      <td>86.6375</td>\n",
       "    </tr>\n",
       "    <tr>\n",
       "      <td>4</td>\n",
       "      <td>16</td>\n",
       "      <td>16</td>\n",
       "      <td>16</td>\n",
       "      <td>8</td>\n",
       "      <td>8</td>\n",
       "      <td>8</td>\n",
       "      <td>8</td>\n",
       "      <td>2</td>\n",
       "      <td>1</td>\n",
       "      <td>1</td>\n",
       "      <td>0</td>\n",
       "      <td>1</td>\n",
       "      <td>0</td>\n",
       "      <td>0</td>\n",
       "      <td>118.6625</td>\n",
       "    </tr>\n",
       "  </tbody>\n",
       "</table>\n",
       "</div>"
      ],
      "text/plain": [
       "   MWG  NWG  KWG  MDIMC  NDIMC  MDIMA  NDIMB  KWI  VWM  VWN  STRM  STRN  SA  \\\n",
       "0   16   16   16      8      8      8      8    2    1    1     0     0   0   \n",
       "1   16   16   16      8      8      8      8    2    1    1     0     0   0   \n",
       "2   16   16   16      8      8      8      8    2    1    1     0     0   1   \n",
       "3   16   16   16      8      8      8      8    2    1    1     0     0   1   \n",
       "4   16   16   16      8      8      8      8    2    1    1     0     1   0   \n",
       "\n",
       "   SB   Avg_Run  \n",
       "0   0  116.3700  \n",
       "1   1   78.7050  \n",
       "2   0   80.5650  \n",
       "3   1   86.6375  \n",
       "4   0  118.6625  "
      ]
     },
     "execution_count": 4,
     "metadata": {},
     "output_type": "execute_result"
    }
   ],
   "source": [
    "data[\"Avg_Run\"]=data[[\"Run1 (ms)\",\"Run2 (ms)\",\"Run3 (ms)\",\"Run4 (ms)\"]].mean(axis=1)\n",
    "data=data.drop(columns=[\"Run1 (ms)\",\"Run2 (ms)\",\"Run3 (ms)\",\"Run4 (ms)\"],axis=1)\n",
    "data.head()"
   ]
  },
  {
   "cell_type": "code",
   "execution_count": 5,
   "metadata": {},
   "outputs": [
    {
     "data": {
      "text/plain": [
       "MWG        0\n",
       "NWG        0\n",
       "KWG        0\n",
       "MDIMC      0\n",
       "NDIMC      0\n",
       "MDIMA      0\n",
       "NDIMB      0\n",
       "KWI        0\n",
       "VWM        0\n",
       "VWN        0\n",
       "STRM       0\n",
       "STRN       0\n",
       "SA         0\n",
       "SB         0\n",
       "Avg_Run    0\n",
       "dtype: int64"
      ]
     },
     "execution_count": 5,
     "metadata": {},
     "output_type": "execute_result"
    }
   ],
   "source": [
    "data.isnull().sum()"
   ]
  },
  {
   "cell_type": "markdown",
   "metadata": {},
   "source": [
    "## Data Partition"
   ]
  },
  {
   "cell_type": "code",
   "execution_count": 6,
   "metadata": {},
   "outputs": [],
   "source": [
    "from sklearn.model_selection import train_test_split\n",
    "\n",
    "def data_part(X, y, split_size) :\n",
    "    \n",
    "    \n",
    "    \n",
    "    X_train, X_test, y_train, y_test = train_test_split(X, y,\n",
    "                                                        test_size = split_size)\n",
    "    print(X_train.shape)\n",
    "    print(X_test.shape)\n",
    "    \n",
    "    return X_train, X_test, y_train, y_test"
   ]
  },
  {
   "cell_type": "code",
   "execution_count": 7,
   "metadata": {},
   "outputs": [],
   "source": [
    "X=data.drop([\"Avg_Run\"],axis=1)\n",
    "y=data[\"Avg_Run\"]"
   ]
  },
  {
   "cell_type": "markdown",
   "metadata": {},
   "source": [
    "## Data Prep"
   ]
  },
  {
   "cell_type": "code",
   "execution_count": 8,
   "metadata": {},
   "outputs": [
    {
     "name": "stdout",
     "output_type": "stream",
     "text": [
      "(193280, 14)\n",
      "(48320, 14)\n"
     ]
    }
   ],
   "source": [
    "X_train, X_test, y_train, y_test=data_part(X,y,split_size=0.2)\n",
    "X_train=np.hstack((np.ones((X_train.shape[0],1)),X_train))\n",
    "X_test=np.hstack((np.ones((X_test.shape[0],1)),X_test))\n",
    "y_train_binary= np.where(y_train>np.median(y),1,0)\n",
    "y_test_binary= np.where(y_test>np.median(y),1,0)\n",
    "Beta= np.zeros((X_train.shape[1]))\n",
    "m=len(X_train)\n"
   ]
  },
  {
   "cell_type": "markdown",
   "metadata": {},
   "source": [
    "## Linear Regression"
   ]
  },
  {
   "cell_type": "code",
   "execution_count": 9,
   "metadata": {},
   "outputs": [],
   "source": [
    "def LR(X,y,Beta):\n",
    "    y_hat= np.dot(X_train,Beta)\n",
    "    error=y_hat-y_train\n",
    "    return error   "
   ]
  },
  {
   "cell_type": "markdown",
   "metadata": {},
   "source": [
    "## Cost Function"
   ]
  },
  {
   "cell_type": "code",
   "execution_count": 10,
   "metadata": {},
   "outputs": [],
   "source": [
    "\n",
    "def cost(err):\n",
    "    cost = (1/m) *0.5* np.sum(np.square(err))\n",
    "    return cost   "
   ]
  },
  {
   "cell_type": "markdown",
   "metadata": {},
   "source": [
    "## Gradient Descent"
   ]
  },
  {
   "cell_type": "code",
   "execution_count": 11,
   "metadata": {},
   "outputs": [],
   "source": [
    "i=0\n",
    "def grd(X,y,Beta,alpha,epochs):\n",
    "    cost_list=[]\n",
    "    error_list=[]\n",
    "    cost_list.append(cost(LR(X,y,Beta)))\n",
    "    for i in range(epochs):\n",
    "            error=LR(X,y,Beta)\n",
    "            sq_error= np.sum(np.square(error))\n",
    "            error_list.append(sq_error)\n",
    "            c=cost(LR(X,y,Beta))\n",
    "            cost_list.append(c)\n",
    "            Beta_Der = (1/m)*X_train.T.dot(error)\n",
    "            Beta=Beta- alpha*Beta_Der\n",
    "            i=i+1\n",
    "            if cost_list[-1]>cost_list[-2]:\n",
    "                break\n",
    "    return cost_list,Beta\n"
   ]
  },
  {
   "cell_type": "markdown",
   "metadata": {},
   "source": [
    "## RMSE"
   ]
  },
  {
   "cell_type": "code",
   "execution_count": 12,
   "metadata": {},
   "outputs": [],
   "source": [
    "def mse(X,y,Beta):\n",
    "    m=len(y)\n",
    "    y_hat= X.dot(Beta)\n",
    "    rmse= np.sqrt((np.sum(np.square(y-y_hat))/m))\n",
    "    return rmse"
   ]
  },
  {
   "cell_type": "code",
   "execution_count": 24,
   "metadata": {},
   "outputs": [],
   "source": [
    "cost_list1=[]\n",
    "Beta1=[]\n",
    "cost_list1,Beta1=grd(X_train,y_train,Beta,0.00001,30000)\n",
    "training_rmse1=mse(X_train,y_train,Beta1)\n",
    "testing_rmse1=mse(X_test,y_test,Beta1)"
   ]
  },
  {
   "cell_type": "code",
   "execution_count": 28,
   "metadata": {},
   "outputs": [],
   "source": [
    "cost_list2=[]\n",
    "Beta2=[]\n",
    "cost_list2,Beta2=grd(X_train,y_train,Beta,0.00005,30000)\n",
    "training_rmse2=mse(X_train,y_train,Beta2)\n",
    "testing_rmse2=mse(X_test,y_test,Beta2)"
   ]
  },
  {
   "cell_type": "code",
   "execution_count": 30,
   "metadata": {},
   "outputs": [],
   "source": [
    "cost_list3=[]\n",
    "Beta3=[]\n",
    "cost_list3,Beta3=grd(X_train,y_train,Beta,0.0001,30000)\n",
    "training_rmse3=mse(X_train,y_train,Beta3)\n",
    "testing_rmse3=mse(X_test,y_test,Beta3)"
   ]
  },
  {
   "cell_type": "code",
   "execution_count": 32,
   "metadata": {},
   "outputs": [
    {
     "data": {
      "text/html": [
       "<div>\n",
       "<style scoped>\n",
       "    .dataframe tbody tr th:only-of-type {\n",
       "        vertical-align: middle;\n",
       "    }\n",
       "\n",
       "    .dataframe tbody tr th {\n",
       "        vertical-align: top;\n",
       "    }\n",
       "\n",
       "    .dataframe thead th {\n",
       "        text-align: right;\n",
       "    }\n",
       "</style>\n",
       "<table border=\"1\" class=\"dataframe\">\n",
       "  <thead>\n",
       "    <tr style=\"text-align: right;\">\n",
       "      <th></th>\n",
       "      <th>Alpha</th>\n",
       "      <th>Training_RMSE</th>\n",
       "      <th>Testing_RMSE</th>\n",
       "    </tr>\n",
       "  </thead>\n",
       "  <tbody>\n",
       "    <tr>\n",
       "      <td>0</td>\n",
       "      <td>0.00001</td>\n",
       "      <td>285.370002</td>\n",
       "      <td>285.156827</td>\n",
       "    </tr>\n",
       "    <tr>\n",
       "      <td>1</td>\n",
       "      <td>0.00005</td>\n",
       "      <td>284.744252</td>\n",
       "      <td>284.481720</td>\n",
       "    </tr>\n",
       "    <tr>\n",
       "      <td>2</td>\n",
       "      <td>0.00010</td>\n",
       "      <td>284.356382</td>\n",
       "      <td>284.089762</td>\n",
       "    </tr>\n",
       "  </tbody>\n",
       "</table>\n",
       "</div>"
      ],
      "text/plain": [
       "     Alpha  Training_RMSE  Testing_RMSE\n",
       "0  0.00001     285.370002    285.156827\n",
       "1  0.00005     284.744252    284.481720\n",
       "2  0.00010     284.356382    284.089762"
      ]
     },
     "execution_count": 32,
     "metadata": {},
     "output_type": "execute_result"
    }
   ],
   "source": [
    "Errors= pd.DataFrame(\n",
    "    {'Alpha': [0.00001,0.00005,0.0001],\n",
    "     'Training_RMSE': [training_rmse1,training_rmse2,training_rmse3],\n",
    "     'Testing_RMSE': [testing_rmse1,testing_rmse2,testing_rmse3]\n",
    "    })\n",
    "Errors.head()"
   ]
  },
  {
   "cell_type": "code",
   "execution_count": 34,
   "metadata": {},
   "outputs": [],
   "source": [
    "cl4=[]\n",
    "b4=[]\n",
    "cl4,b4=grd(X_train,y_train,Beta,0.0001,10000)\n",
    "training_rmse4=mse(X_train,y_train,b4)\n",
    "testing_rmse4=mse(X_test,y_test,b4)"
   ]
  },
  {
   "cell_type": "code",
   "execution_count": 35,
   "metadata": {},
   "outputs": [],
   "source": [
    "cl5=[]\n",
    "b5=[]\n",
    "cl5,b5=grd(X_train,y_train,Beta,0.0001,25000)\n",
    "training_rmse5=mse(X_train,y_train,b5)\n",
    "testing_rmse5=mse(X_test,y_test,b5)"
   ]
  },
  {
   "cell_type": "code",
   "execution_count": 36,
   "metadata": {},
   "outputs": [],
   "source": [
    "cl6=[]\n",
    "b6=[]\n",
    "cl6,b6=grd(X_train,y_train,Beta,0.0001,45000)\n",
    "training_rmse6=mse(X_train,y_train,b6)\n",
    "testing_rmse6=mse(X_test,y_test,b6)"
   ]
  },
  {
   "cell_type": "code",
   "execution_count": 37,
   "metadata": {},
   "outputs": [
    {
     "data": {
      "text/html": [
       "<div>\n",
       "<style scoped>\n",
       "    .dataframe tbody tr th:only-of-type {\n",
       "        vertical-align: middle;\n",
       "    }\n",
       "\n",
       "    .dataframe tbody tr th {\n",
       "        vertical-align: top;\n",
       "    }\n",
       "\n",
       "    .dataframe thead th {\n",
       "        text-align: right;\n",
       "    }\n",
       "</style>\n",
       "<table border=\"1\" class=\"dataframe\">\n",
       "  <thead>\n",
       "    <tr style=\"text-align: right;\">\n",
       "      <th></th>\n",
       "      <th>Epochs</th>\n",
       "      <th>Training_RMSE</th>\n",
       "      <th>Testing_RMSE</th>\n",
       "    </tr>\n",
       "  </thead>\n",
       "  <tbody>\n",
       "    <tr>\n",
       "      <td>0</td>\n",
       "      <td>10000</td>\n",
       "      <td>284.954704</td>\n",
       "      <td>284.697657</td>\n",
       "    </tr>\n",
       "    <tr>\n",
       "      <td>1</td>\n",
       "      <td>25000</td>\n",
       "      <td>284.454744</td>\n",
       "      <td>284.188834</td>\n",
       "    </tr>\n",
       "    <tr>\n",
       "      <td>2</td>\n",
       "      <td>45000</td>\n",
       "      <td>284.172829</td>\n",
       "      <td>283.905695</td>\n",
       "    </tr>\n",
       "  </tbody>\n",
       "</table>\n",
       "</div>"
      ],
      "text/plain": [
       "   Epochs  Training_RMSE  Testing_RMSE\n",
       "0   10000     284.954704    284.697657\n",
       "1   25000     284.454744    284.188834\n",
       "2   45000     284.172829    283.905695"
      ]
     },
     "execution_count": 37,
     "metadata": {},
     "output_type": "execute_result"
    }
   ],
   "source": [
    "Epochs= pd.DataFrame(\n",
    "    {'Epochs': [10000,25000,45000],\n",
    "     'Training_RMSE': [training_rmse4,training_rmse5,training_rmse6],\n",
    "     'Testing_RMSE': [testing_rmse4,testing_rmse5,testing_rmse6]\n",
    "    })\n",
    "\n",
    "Epochs.head()"
   ]
  },
  {
   "cell_type": "code",
   "execution_count": 38,
   "metadata": {},
   "outputs": [
    {
     "data": {
      "image/png": "[encoded data removed]",
      "text/plain": [
       "<Figure size 432x288 with 1 Axes>"
      ]
     },
     "metadata": {
      "needs_background": "light"
     },
     "output_type": "display_data"
    },
    {
     "data": {
      "text/plain": [
       "<Figure size 432x288 with 0 Axes>"
      ]
     },
     "metadata": {},
     "output_type": "display_data"
    }
   ],
   "source": [
    "plt.plot(Errors[\"Alpha\"],Errors[\"Training_RMSE\"],label=\"Training Error\",color=\"red\")\n",
    "plt.plot(Errors[\"Alpha\"],Errors[\"Testing_RMSE\"],label=\"Testing Error\",color=\"green\")\n",
    "plt.xlabel(\"Alpha---->\")\n",
    "plt.ylabel(\"RMSE---->\")\n",
    "plt.title(\"Training and Test RMSE\")\n",
    "plt.legend()\n",
    "plt.show()\n",
    "plt.savefig(\"Train & Test RMSE\")"
   ]
  },
  {
   "cell_type": "code",
   "execution_count": 39,
   "metadata": {},
   "outputs": [
    {
     "data": {
      "image/png": "[encoded data removed]",
      "text/plain": [
       "<Figure size 432x288 with 1 Axes>"
      ]
     },
     "metadata": {
      "needs_background": "light"
     },
     "output_type": "display_data"
    },
    {
     "data": {
      "text/plain": [
       "<Figure size 432x288 with 0 Axes>"
      ]
     },
     "metadata": {},
     "output_type": "display_data"
    }
   ],
   "source": [
    "plt.plot(list(range(30000)),cost_list1[1:],label=\"Alpha=0.00001\",color='yellow')\n",
    "plt.plot(list(range(30000)),cost_list2[1:],label=\"Alpha=0.00005\",color=\"red\")\n",
    "plt.plot(list(range(30000)),cost_list3[1:],label=\"Alpha=0.0001\",color=\"green\")\n",
    "plt.legend()\n",
    "plt.xlabel(\"Epoch--->\")\n",
    "plt.ylabel(\"Cost--->\")\n",
    "plt.title(\"Cost for 30000 Epochs\")\n",
    "plt.show()\n",
    "plt.savefig(\"cost for 30000\")"
   ]
  },
  {
   "cell_type": "code",
   "execution_count": 41,
   "metadata": {},
   "outputs": [
    {
     "data": {
      "image/png": "[encoded data removed]",
      "text/plain": [
       "<Figure size 432x288 with 1 Axes>"
      ]
     },
     "metadata": {
      "needs_background": "light"
     },
     "output_type": "display_data"
    },
    {
     "data": {
      "text/plain": [
       "<Figure size 432x288 with 0 Axes>"
      ]
     },
     "metadata": {},
     "output_type": "display_data"
    }
   ],
   "source": [
    "plt.plot(Epochs[\"Epochs\"],Epochs[\"Training_RMSE\"],label=\"Training Error\",color=\"red\")\n",
    "plt.plot(Epochs[\"Epochs\"],Epochs[\"Testing_RMSE\"],label=\"Testing Error\",color=\"green\")\n",
    "plt.xlabel(\"Epochs---->\")\n",
    "plt.ylabel(\"RMSE---->\")\n",
    "plt.title(\"Training and Test RMSE\")\n",
    "plt.legend()\n",
    "plt.show()\n",
    "plt.savefig(\"Train and Test\")"
   ]
  },
  {
   "cell_type": "markdown",
   "metadata": {},
   "source": [
    "## Logisitic Regression"
   ]
  },
  {
   "cell_type": "code",
   "execution_count": 50,
   "metadata": {},
   "outputs": [],
   "source": [
    "def Logistic(X,Beta):\n",
    "    y_hat_logit= 1/(1+ np.exp(-np.dot(X,Beta)))\n",
    "    return y_hat_logit\n",
    "    "
   ]
  },
  {
   "cell_type": "markdown",
   "metadata": {},
   "source": [
    "## Cost Function"
   ]
  },
  {
   "cell_type": "code",
   "execution_count": 51,
   "metadata": {},
   "outputs": [],
   "source": [
    "def cost_logit(X,y,Beta,y_bin):\n",
    "    cost_logit= -1/m*np.sum((y_train_binary*np.log(Logistic(X_train,Beta)) + (1-y_train_binary)*np.log(1-Logistic(X_train,Beta))))\n",
    "    return cost_logit\n",
    "    "
   ]
  },
  {
   "cell_type": "markdown",
   "metadata": {},
   "source": [
    "## Gradient Descent"
   ]
  },
  {
   "cell_type": "code",
   "execution_count": 52,
   "metadata": {},
   "outputs": [],
   "source": [
    "i=0\n",
    "def Logit_Grad_Descent(X,y,Beta,alpha,epochs):\n",
    "    cost_logit_list=[]\n",
    "    error_log=[]\n",
    "    cost_logit_list.append(cost_logit(X_train,y_train,Beta,y_train_binary))\n",
    "    for i in range(epochs):\n",
    "        error=Logistic(X_train,Beta)-y_train_binary\n",
    "        sq_err_log= np.sum(np.square(error))\n",
    "        error_log.append(sq_err_log)\n",
    "        cost_log=cost_logit(X_train,y_train,Beta,y_train_binary) \n",
    "        cost_logit_list.append(cost_log)\n",
    "        Beta_Der_logit=(1/m)*X_train.T.dot(error)\n",
    "        Beta=Beta-alpha*Beta_Der_logit\n",
    "        if cost_logit_list[-1]>cost_logit_list[-2]:\n",
    "            break\n",
    "    return cost_logit_list,Beta\n",
    "    "
   ]
  },
  {
   "cell_type": "markdown",
   "metadata": {},
   "source": [
    "## Accuracy"
   ]
  },
  {
   "cell_type": "code",
   "execution_count": 53,
   "metadata": {},
   "outputs": [],
   "source": [
    "def accuracy(X,y,Beta):\n",
    "    y_hat_logit= 1/(1+ np.exp(-np.dot(X,Beta)))\n",
    "    y_hat_logit= np.where(y_hat_logit>=0.5,1,0)\n",
    "    j=0\n",
    "    for i in range(len(y_hat_logit)):\n",
    "        if y_hat_logit[i]==y[i]:\n",
    "            j=j+1\n",
    "    acc= (j/len(y))*100\n",
    "    return acc\n",
    "    "
   ]
  },
  {
   "cell_type": "code",
   "execution_count": 47,
   "metadata": {},
   "outputs": [],
   "source": [
    "cost_log1=[]\n",
    "beta_log1=[]\n",
    "cost_log1,beta_log1=Logit_Grad_Descent(X_train,y_train,Beta,0.00052,30000)\n",
    "training_acc1=accuracy(X_train,y_train_binary,beta_log1)\n",
    "testing_acc1=accuracy(X_test,y_test_binary,beta_log1)"
   ]
  },
  {
   "cell_type": "code",
   "execution_count": 48,
   "metadata": {},
   "outputs": [],
   "source": [
    "cost_log2=[]\n",
    "beta_log2=[]\n",
    "error_log2=[]\n",
    "cost_log2,beta_log2=Logit_Grad_Descent(X_train,y_train,Beta,0.00035,30000)\n",
    "training_acc2=accuracy(X_train,y_train_binary,beta_log2)\n",
    "testing_acc2=accuracy(X_test,y_test_binary,beta_log2)"
   ]
  },
  {
   "cell_type": "code",
   "execution_count": 49,
   "metadata": {},
   "outputs": [],
   "source": [
    "cost_log3=[]\n",
    "beta_log3=[]\n",
    "error_log3=[]\n",
    "cost_log3,beta_log3=Logit_Grad_Descent(X_train,y_train,Beta,0.0001,30000)\n",
    "training_acc3=accuracy(X_train,y_train_binary,beta_log3)\n",
    "testing_acc3=accuracy(X_test,y_test_binary,beta_log3)"
   ]
  },
  {
   "cell_type": "code",
   "execution_count": 50,
   "metadata": {},
   "outputs": [
    {
     "data": {
      "text/html": [
       "<div>\n",
       "<style scoped>\n",
       "    .dataframe tbody tr th:only-of-type {\n",
       "        vertical-align: middle;\n",
       "    }\n",
       "\n",
       "    .dataframe tbody tr th {\n",
       "        vertical-align: top;\n",
       "    }\n",
       "\n",
       "    .dataframe thead th {\n",
       "        text-align: right;\n",
       "    }\n",
       "</style>\n",
       "<table border=\"1\" class=\"dataframe\">\n",
       "  <thead>\n",
       "    <tr style=\"text-align: right;\">\n",
       "      <th></th>\n",
       "      <th>Alpha</th>\n",
       "      <th>Training_Accuracy</th>\n",
       "      <th>Testing_Accuracy</th>\n",
       "    </tr>\n",
       "  </thead>\n",
       "  <tbody>\n",
       "    <tr>\n",
       "      <td>0</td>\n",
       "      <td>0.00052</td>\n",
       "      <td>82.211817</td>\n",
       "      <td>82.226821</td>\n",
       "    </tr>\n",
       "    <tr>\n",
       "      <td>1</td>\n",
       "      <td>0.00035</td>\n",
       "      <td>82.401697</td>\n",
       "      <td>82.415149</td>\n",
       "    </tr>\n",
       "    <tr>\n",
       "      <td>2</td>\n",
       "      <td>0.00010</td>\n",
       "      <td>82.473096</td>\n",
       "      <td>82.547599</td>\n",
       "    </tr>\n",
       "  </tbody>\n",
       "</table>\n",
       "</div>"
      ],
      "text/plain": [
       "     Alpha  Training_Accuracy  Testing_Accuracy\n",
       "0  0.00052          82.211817         82.226821\n",
       "1  0.00035          82.401697         82.415149\n",
       "2  0.00010          82.473096         82.547599"
      ]
     },
     "execution_count": 50,
     "metadata": {},
     "output_type": "execute_result"
    }
   ],
   "source": [
    "Accuracy= pd.DataFrame(\n",
    "    {'Alpha': [0.00052,0.00035,0.0001],\n",
    "     'Training_Accuracy': [training_acc1,training_acc2,training_acc3],\n",
    "     'Testing_Accuracy': [testing_acc1,testing_acc2,testing_acc3]\n",
    "    })\n",
    "Accuracy.head()"
   ]
  },
  {
   "cell_type": "code",
   "execution_count": 51,
   "metadata": {},
   "outputs": [],
   "source": [
    "cost_log4=[]\n",
    "beta_log4=[]\n",
    "error_log4=[]\n",
    "cost_log4,beta_log4=Logit_Grad_Descent(X_train,y_train,Beta,0.0001,15000)\n",
    "training_acc4=accuracy(X_train,y_train_binary,beta_log4)\n",
    "testing_acc4=accuracy(X_test,y_test_binary,beta_log4)"
   ]
  },
  {
   "cell_type": "code",
   "execution_count": 52,
   "metadata": {},
   "outputs": [],
   "source": [
    "cost_log5=[]\n",
    "beta_log5=[]\n",
    "error_log5=[]\n",
    "cost_log5,beta_log5=Logit_Grad_Descent(X_train,y_train,Beta,0.0001,35000)\n",
    "training_acc5=accuracy(X_train,y_train_binary,beta_log5)\n",
    "testing_acc5=accuracy(X_test,y_test_binary,beta_log5)"
   ]
  },
  {
   "cell_type": "code",
   "execution_count": 53,
   "metadata": {},
   "outputs": [],
   "source": [
    "cost_log6=[]\n",
    "beta_log6=[]\n",
    "error_log6=[]\n",
    "cost_log6,beta_log6=Logit_Grad_Descent(X_train,y_train,Beta,0.0001,50000)\n",
    "training_acc6=accuracy(X_train,y_train_binary,beta_log6)\n",
    "testing_acc6=accuracy(X_test,y_test_binary,beta_log6)"
   ]
  },
  {
   "cell_type": "code",
   "execution_count": 54,
   "metadata": {},
   "outputs": [
    {
     "data": {
      "text/html": [
       "<div>\n",
       "<style scoped>\n",
       "    .dataframe tbody tr th:only-of-type {\n",
       "        vertical-align: middle;\n",
       "    }\n",
       "\n",
       "    .dataframe tbody tr th {\n",
       "        vertical-align: top;\n",
       "    }\n",
       "\n",
       "    .dataframe thead th {\n",
       "        text-align: right;\n",
       "    }\n",
       "</style>\n",
       "<table border=\"1\" class=\"dataframe\">\n",
       "  <thead>\n",
       "    <tr style=\"text-align: right;\">\n",
       "      <th></th>\n",
       "      <th>Epochs</th>\n",
       "      <th>Training_Accuracy</th>\n",
       "      <th>Testing_Accuracy</th>\n",
       "    </tr>\n",
       "  </thead>\n",
       "  <tbody>\n",
       "    <tr>\n",
       "      <td>0</td>\n",
       "      <td>15000</td>\n",
       "      <td>82.524834</td>\n",
       "      <td>82.572434</td>\n",
       "    </tr>\n",
       "    <tr>\n",
       "      <td>1</td>\n",
       "      <td>35000</td>\n",
       "      <td>82.478270</td>\n",
       "      <td>82.510348</td>\n",
       "    </tr>\n",
       "    <tr>\n",
       "      <td>2</td>\n",
       "      <td>50000</td>\n",
       "      <td>82.484996</td>\n",
       "      <td>82.417219</td>\n",
       "    </tr>\n",
       "  </tbody>\n",
       "</table>\n",
       "</div>"
      ],
      "text/plain": [
       "   Epochs  Training_Accuracy  Testing_Accuracy\n",
       "0   15000          82.524834         82.572434\n",
       "1   35000          82.478270         82.510348\n",
       "2   50000          82.484996         82.417219"
      ]
     },
     "execution_count": 54,
     "metadata": {},
     "output_type": "execute_result"
    }
   ],
   "source": [
    "Epochs_Logit= pd.DataFrame(\n",
    "    {'Epochs': [15000,35000,50000],\n",
    "     'Training_Accuracy': [training_acc4,training_acc5,training_acc6],\n",
    "     'Testing_Accuracy': [testing_acc4,testing_acc5,testing_acc6]\n",
    "    })\n",
    "\n",
    "Epochs_Logit.head()"
   ]
  },
  {
   "cell_type": "code",
   "execution_count": 59,
   "metadata": {},
   "outputs": [
    {
     "data": {
      "image/png": "[encoded data removed]",
      "text/plain": [
       "<Figure size 432x288 with 1 Axes>"
      ]
     },
     "metadata": {
      "needs_background": "light"
     },
     "output_type": "display_data"
    },
    {
     "data": {
      "text/plain": [
       "<Figure size 432x288 with 0 Axes>"
      ]
     },
     "metadata": {},
     "output_type": "display_data"
    }
   ],
   "source": [
    "plt.plot(Accuracy[\"Alpha\"],Accuracy[\"Training_Accuracy\"],label=\"Training Accuracy\",color=\"red\")\n",
    "plt.plot(Accuracy[\"Alpha\"],Accuracy[\"Testing_Accuracy\"],label=\"Testing Accuracy\",color=\"green\")\n",
    "plt.xlabel(\"<----Alpha\")\n",
    "plt.ylabel(\"Accuracy---->\")\n",
    "plt.title(\"Training and Test Accuracy\")\n",
    "plt.legend()\n",
    "plt.show()\n",
    "plt.savefig(\"Train and Test Accuracy\")"
   ]
  },
  {
   "cell_type": "code",
   "execution_count": 56,
   "metadata": {},
   "outputs": [
    {
     "data": {
      "image/png": "[encoded data removed]",
      "text/plain": [
       "<Figure size 432x288 with 1 Axes>"
      ]
     },
     "metadata": {
      "needs_background": "light"
     },
     "output_type": "display_data"
    }
   ],
   "source": [
    "plt.plot(list(range(30000)),cost_log1[1:],label=\"Alpha=0.00052\",color=\"blue\")\n",
    "plt.plot(list(range(30000)),cost_log2[1:],label=\"Alpha=0.00035\",color=\"red\")\n",
    "plt.plot(list(range(30000)),cost_log3[1:],label=\"Alpha=0.0001\",color=\"green\")\n",
    "plt.legend()\n",
    "plt.xlabel(\"Epochs--->\")\n",
    "plt.ylabel(\"Cost--->\")\n",
    "plt.show()"
   ]
  },
  {
   "cell_type": "code",
   "execution_count": 60,
   "metadata": {},
   "outputs": [
    {
     "data": {
      "image/png": "[encoded data removed]",
      "text/plain": [
       "<Figure size 432x288 with 1 Axes>"
      ]
     },
     "metadata": {
      "needs_background": "light"
     },
     "output_type": "display_data"
    },
    {
     "data": {
      "text/plain": [
       "<Figure size 432x288 with 0 Axes>"
      ]
     },
     "metadata": {},
     "output_type": "display_data"
    }
   ],
   "source": [
    "plt.plot(Epochs_Logit[\"Epochs\"],Epochs_Logit[\"Training_Accuracy\"],label=\"Training Accuracy\",color=\"red\")\n",
    "plt.plot(Epochs_Logit[\"Epochs\"],Epochs_Logit[\"Testing_Accuracy\"],label=\"Testing Accuracy\",color=\"green\")\n",
    "plt.xlabel(\"Epochs---->\")\n",
    "plt.ylabel(\"Accuracy---->\")\n",
    "plt.title(\"Training and Test Accuracy\")\n",
    "plt.legend()\n",
    "plt.show()\n",
    "plt.savefig(\"Train and Test Accuracy Epochs\")"
   ]
  },
  {
   "cell_type": "code",
   "execution_count": 61,
   "metadata": {},
   "outputs": [
    {
     "name": "stdout",
     "output_type": "stream",
     "text": [
      "Best Parameters for Linear Regression [ -4.25000386   3.31079403   3.04519291   4.79255995 -16.90026874\n",
      " -16.5762697    0.82167159   0.89365921   3.32511614  -1.98740849\n",
      "  -3.43873574  -8.02437306  -0.86566403  24.44134146  30.60833305]\n"
     ]
    }
   ],
   "source": [
    "print(\"Best Parameters for Linear Regression\",b6)"
   ]
  },
  {
   "cell_type": "code",
   "execution_count": 68,
   "metadata": {},
   "outputs": [
    {
     "name": "stdout",
     "output_type": "stream",
     "text": [
      "Best Parameters for Logistic Regression [-0.0304639   0.02912615  0.01847307  0.007498   -0.11317141 -0.09742181\n",
      " -0.01053912 -0.01201663 -0.02121825 -0.05751749 -0.08874953 -0.12882606\n",
      " -0.02316424 -0.1586742  -0.04212807]\n"
     ]
    }
   ],
   "source": [
    "print(\"Best Parameters for Logistic Regression\",beta_log6)"
   ]
  },
  {
   "cell_type": "markdown",
   "metadata": {},
   "source": [
    "## Modeling Using Statsmodels"
   ]
  },
  {
   "cell_type": "code",
   "execution_count": 74,
   "metadata": {},
   "outputs": [
    {
     "name": "stdout",
     "output_type": "stream",
     "text": [
      "                            OLS Regression Results                            \n",
      "==============================================================================\n",
      "Dep. Variable:                Avg_Run   R-squared:                       0.408\n",
      "Model:                            OLS   Adj. R-squared:                  0.408\n",
      "Method:                 Least Squares   F-statistic:                     9502.\n",
      "Date:                Thu, 13 Feb 2020   Prob (F-statistic):               0.00\n",
      "Time:                        19:53:39   Log-Likelihood:            -1.3650e+06\n",
      "No. Observations:              193280   AIC:                         2.730e+06\n",
      "Df Residuals:                  193265   BIC:                         2.730e+06\n",
      "Df Model:                          14                                         \n",
      "Covariance Type:            nonrobust                                         \n",
      "==============================================================================\n",
      "                 coef    std err          t      P>|t|      [0.025      0.975]\n",
      "------------------------------------------------------------------------------\n",
      "const        -50.3933      3.808    -13.234      0.000     -57.856     -42.930\n",
      "x1             3.3302      0.017    197.744      0.000       3.297       3.363\n",
      "x2             3.0593      0.017    181.540      0.000       3.026       3.092\n",
      "x3             5.1820      0.085     61.065      0.000       5.016       5.348\n",
      "x4           -16.6697      0.089   -186.885      0.000     -16.844     -16.495\n",
      "x5           -16.2962      0.089   -182.733      0.000     -16.471     -16.121\n",
      "x6             1.0004      0.074     13.547      0.000       0.856       1.145\n",
      "x7             0.9873      0.074     13.362      0.000       0.843       1.132\n",
      "x8             3.9802      0.214     18.591      0.000       3.561       4.400\n",
      "x9            -1.8604      0.370     -5.023      0.000      -2.586      -1.134\n",
      "x10           -2.7344      0.370     -7.390      0.000      -3.460      -2.009\n",
      "x11           -9.7562      1.285     -7.595      0.000     -12.274      -7.239\n",
      "x12            0.2264      1.285      0.176      0.860      -2.291       2.744\n",
      "x13           37.4059      1.285     29.120      0.000      34.888      39.924\n",
      "x14           46.9993      1.285     36.589      0.000      44.482      49.517\n",
      "==============================================================================\n",
      "Omnibus:                   147560.923   Durbin-Watson:                   2.000\n",
      "Prob(Omnibus):                  0.000   Jarque-Bera (JB):          3412124.254\n",
      "Skew:                           3.536   Prob(JB):                         0.00\n",
      "Kurtosis:                      22.331   Cond. No.                         762.\n",
      "==============================================================================\n",
      "\n",
      "Warnings:\n",
      "[1] Standard Errors assume that the covariance matrix of the errors is correctly specified.\n"
     ]
    }
   ],
   "source": [
    "import statsmodels.api as sm\n",
    "model=sm.OLS(y_train,sm.add_constant(X_train))\n",
    "result_LR=model.fit()\n",
    "print(result_LR.summary())"
   ]
  },
  {
   "cell_type": "code",
   "execution_count": 75,
   "metadata": {},
   "outputs": [
    {
     "name": "stdout",
     "output_type": "stream",
     "text": [
      "Optimization terminated successfully.\n",
      "         Current function value: 0.476880\n",
      "         Iterations 6\n",
      "                           Logit Regression Results                           \n",
      "==============================================================================\n",
      "Dep. Variable:                      y   No. Observations:               193280\n",
      "Model:                          Logit   Df Residuals:                   193265\n",
      "Method:                           MLE   Df Model:                           14\n",
      "Date:                Thu, 13 Feb 2020   Pseudo R-squ.:                  0.3120\n",
      "Time:                        19:53:39   Log-Likelihood:                -92171.\n",
      "converged:                       True   LL-Null:                   -1.3397e+05\n",
      "Covariance Type:            nonrobust   LLR p-value:                     0.000\n",
      "==============================================================================\n",
      "                 coef    std err          z      P>|z|      [0.025      0.975]\n",
      "------------------------------------------------------------------------------\n",
      "const         -0.3018      0.034     -8.958      0.000      -0.368      -0.236\n",
      "x1             0.0312      0.000    178.506      0.000       0.031       0.032\n",
      "x2             0.0201      0.000    123.747      0.000       0.020       0.020\n",
      "x3             0.0194      0.001     25.475      0.000       0.018       0.021\n",
      "x4            -0.1147      0.001   -128.528      0.000      -0.116      -0.113\n",
      "x5            -0.0981      0.001   -113.057      0.000      -0.100      -0.096\n",
      "x6            -0.0052      0.001     -7.893      0.000      -0.007      -0.004\n",
      "x7            -0.0076      0.001    -11.408      0.000      -0.009      -0.006\n",
      "x8            -0.0040      0.002     -2.092      0.036      -0.008      -0.000\n",
      "x9            -0.0389      0.003    -11.692      0.000      -0.045      -0.032\n",
      "x10           -0.0724      0.003    -21.941      0.000      -0.079      -0.066\n",
      "x11           -0.6405      0.012    -55.068      0.000      -0.663      -0.618\n",
      "x12           -0.0589      0.011     -5.125      0.000      -0.081      -0.036\n",
      "x13           -0.8101      0.012    -69.185      0.000      -0.833      -0.787\n",
      "x14           -0.1628      0.012    -14.146      0.000      -0.185      -0.140\n",
      "==============================================================================\n"
     ]
    }
   ],
   "source": [
    "logit_model=sm.Logit(y_train_binary,X_train)\n",
    "result_logit=logit_model.fit()\n",
    "print(result_logit.summary())\n",
    "pred= result_logit.predict(X_test)"
   ]
  },
  {
   "cell_type": "code",
   "execution_count": 86,
   "metadata": {},
   "outputs": [],
   "source": [
    "pred_test= result_logit.predict(X_test)\n",
    "pred_test=np.where(pred_test>=0.5,1,0)\n",
    "pred_tr= result_logit.predict(X_train)\n",
    "pred_tr=np.where(pred_tr>=0.5,1,0)"
   ]
  },
  {
   "cell_type": "markdown",
   "metadata": {},
   "source": [
    "## Calculating Metrics"
   ]
  },
  {
   "cell_type": "code",
   "execution_count": 87,
   "metadata": {
    "scrolled": true
   },
   "outputs": [],
   "source": [
    "from sklearn.metrics import accuracy_score,mean_squared_error\n",
    "train_er= np.sqrt(mean_squared_error(y_train,result_LR.predict(X_train)))\n",
    "test_er= np.sqrt(mean_squared_error(y_test,result_LR.predict(X_test)))\n",
    "train_acc= accuracy_score(y_train_binary,pred_tr)\n",
    "test_acc= accuracy_score(y_test_binary,pred_test)"
   ]
  },
  {
   "cell_type": "code",
   "execution_count": 88,
   "metadata": {},
   "outputs": [
    {
     "data": {
      "text/plain": [
       "(282.3507009109299, 289.7823509086289, 0.8106167218543047, 0.8098716887417219)"
      ]
     },
     "execution_count": 88,
     "metadata": {},
     "output_type": "execute_result"
    }
   ],
   "source": [
    "train_er,test_er,train_acc,test_acc"
   ]
  },
  {
   "cell_type": "markdown",
   "metadata": {},
   "source": [
    "## Selected Model"
   ]
  },
  {
   "cell_type": "code",
   "execution_count": 55,
   "metadata": {},
   "outputs": [],
   "source": [
    "training_rmse8=mse(X_train[:,0:9],y_train,grd(X_train[:,0:9],y_train,Beta,0.0001,25000)[1][:9])\n",
    "testing_rmse8=mse(X_test[:,0:9],y_test,grd(X_train[:,0:9],y_train,Beta,0.0001,25000)[1][:9])"
   ]
  },
  {
   "cell_type": "code",
   "execution_count": 56,
   "metadata": {},
   "outputs": [],
   "source": [
    "training_acc8=accuracy(X_train[:,0:9],y_train_binary,Logit_Grad_Descent(X_train[:,0:9],y_train_binary,Beta,0.0001,15000)[1][:9])\n",
    "testing_acc8=accuracy(X_test[:,0:9],y_test_binary,Logit_Grad_Descent(X_train[:,0:9],y_train_binary,Beta,0.0001,15000)[1][:9])"
   ]
  },
  {
   "cell_type": "code",
   "execution_count": 60,
   "metadata": {},
   "outputs": [],
   "source": [
    "Selected_LR=pd.DataFrame({\"Alpha\":[0.001],\"Epochs\":[25000],\"Train RMSE\": training_rmse8,\"Test RMSE\":testing_rmse8})\n",
    "Selected_Logit=pd.DataFrame({\"Alpha\":[0.001],\"Epochs\":[15000],\"Train Accuracy\": training_acc8,\"Test Accuracy\":testing_acc8})"
   ]
  },
  {
   "cell_type": "code",
   "execution_count": 61,
   "metadata": {
    "scrolled": true
   },
   "outputs": [
    {
     "data": {
      "text/html": [
       "<div>\n",
       "<style scoped>\n",
       "    .dataframe tbody tr th:only-of-type {\n",
       "        vertical-align: middle;\n",
       "    }\n",
       "\n",
       "    .dataframe tbody tr th {\n",
       "        vertical-align: top;\n",
       "    }\n",
       "\n",
       "    .dataframe thead th {\n",
       "        text-align: right;\n",
       "    }\n",
       "</style>\n",
       "<table border=\"1\" class=\"dataframe\">\n",
       "  <thead>\n",
       "    <tr style=\"text-align: right;\">\n",
       "      <th></th>\n",
       "      <th>Alpha</th>\n",
       "      <th>Epochs</th>\n",
       "      <th>Train RMSE</th>\n",
       "      <th>Test RMSE</th>\n",
       "    </tr>\n",
       "  </thead>\n",
       "  <tbody>\n",
       "    <tr>\n",
       "      <td>0</td>\n",
       "      <td>0.001</td>\n",
       "      <td>25000</td>\n",
       "      <td>284.09947</td>\n",
       "      <td>291.691423</td>\n",
       "    </tr>\n",
       "  </tbody>\n",
       "</table>\n",
       "</div>"
      ],
      "text/plain": [
       "   Alpha  Epochs  Train RMSE   Test RMSE\n",
       "0  0.001   25000   284.09947  291.691423"
      ]
     },
     "execution_count": 61,
     "metadata": {},
     "output_type": "execute_result"
    }
   ],
   "source": [
    "Selected_LR"
   ]
  },
  {
   "cell_type": "code",
   "execution_count": 59,
   "metadata": {},
   "outputs": [
    {
     "data": {
      "text/html": [
       "<div>\n",
       "<style scoped>\n",
       "    .dataframe tbody tr th:only-of-type {\n",
       "        vertical-align: middle;\n",
       "    }\n",
       "\n",
       "    .dataframe tbody tr th {\n",
       "        vertical-align: top;\n",
       "    }\n",
       "\n",
       "    .dataframe thead th {\n",
       "        text-align: right;\n",
       "    }\n",
       "</style>\n",
       "<table border=\"1\" class=\"dataframe\">\n",
       "  <thead>\n",
       "    <tr style=\"text-align: right;\">\n",
       "      <th></th>\n",
       "      <th>Alpha</th>\n",
       "      <th>Epochs</th>\n",
       "      <th>Train Accuracy</th>\n",
       "      <th>Test Accuracy</th>\n",
       "    </tr>\n",
       "  </thead>\n",
       "  <tbody>\n",
       "    <tr>\n",
       "      <td>0</td>\n",
       "      <td>0.001</td>\n",
       "      <td>15000</td>\n",
       "      <td>76.324503</td>\n",
       "      <td>76.367964</td>\n",
       "    </tr>\n",
       "  </tbody>\n",
       "</table>\n",
       "</div>"
      ],
      "text/plain": [
       "   Alpha  Epochs  Train Accuracy  Test Accuracy\n",
       "0  0.001   15000       76.324503      76.367964"
      ]
     },
     "execution_count": 59,
     "metadata": {},
     "output_type": "execute_result"
    }
   ],
   "source": [
    "Selected_Logit"
   ]
  },
  {
   "cell_type": "markdown",
   "metadata": {},
   "source": [
    "## Generating Random Number For Feature Selection"
   ]
  },
  {
   "cell_type": "code",
   "execution_count": 64,
   "metadata": {},
   "outputs": [],
   "source": [
    "import random\n",
    "rand_cols=random.sample(range(1,15),9)"
   ]
  },
  {
   "cell_type": "code",
   "execution_count": 65,
   "metadata": {},
   "outputs": [
    {
     "data": {
      "text/plain": [
       "[6, 7, 10, 2, 4, 9, 8, 11, 1]"
      ]
     },
     "execution_count": 65,
     "metadata": {},
     "output_type": "execute_result"
    }
   ],
   "source": [
    "rand_cols"
   ]
  },
  {
   "cell_type": "markdown",
   "metadata": {},
   "source": [
    "## RMSE and Accuracy of Random Model\n"
   ]
  },
  {
   "cell_type": "code",
   "execution_count": 69,
   "metadata": {},
   "outputs": [],
   "source": [
    "training_rmse_rand=mse(X_train[:,rand_cols],y_train,grd(X_train[:,rand_cols],y_train,Beta,0.0001,25000)[1][rand_cols])\n",
    "testing_rmse_rand=mse(X_test[:,rand_cols],y_test,grd(X_train[:,rand_cols],y_train,Beta,0.0001,25000)[1][rand_cols])"
   ]
  },
  {
   "cell_type": "code",
   "execution_count": 67,
   "metadata": {},
   "outputs": [],
   "source": [
    "training_acc_rand=accuracy(X_train[:,rand_cols],y_train_binary,Logit_Grad_Descent(X_train[:,rand_cols],y_train_binary,Beta,0.0001,15000)[1][rand_cols])\n",
    "testing_acc_rand=accuracy(X_test[:,rand_cols],y_test_binary,Logit_Grad_Descent(X_train[:,rand_cols],y_train_binary,Beta,0.0001,15000)[1][rand_cols])"
   ]
  },
  {
   "cell_type": "code",
   "execution_count": 70,
   "metadata": {},
   "outputs": [],
   "source": [
    "Rand_LR=pd.DataFrame({\"Alpha\":[0.001],\"Epochs\":[25000],\"Train RMSE\": training_rmse_rand,\"Test RMSE\":testing_rmse_rand})\n",
    "Rand_Logit=pd.DataFrame({\"Alpha\":[0.001],\"Epochs\":[15000],\"Train Accuracy\": training_acc_rand,\"Test Accuracy\":testing_acc_rand})"
   ]
  },
  {
   "cell_type": "code",
   "execution_count": 71,
   "metadata": {},
   "outputs": [
    {
     "data": {
      "text/html": [
       "<div>\n",
       "<style scoped>\n",
       "    .dataframe tbody tr th:only-of-type {\n",
       "        vertical-align: middle;\n",
       "    }\n",
       "\n",
       "    .dataframe tbody tr th {\n",
       "        vertical-align: top;\n",
       "    }\n",
       "\n",
       "    .dataframe thead th {\n",
       "        text-align: right;\n",
       "    }\n",
       "</style>\n",
       "<table border=\"1\" class=\"dataframe\">\n",
       "  <thead>\n",
       "    <tr style=\"text-align: right;\">\n",
       "      <th></th>\n",
       "      <th>Alpha</th>\n",
       "      <th>Epochs</th>\n",
       "      <th>Train RMSE</th>\n",
       "      <th>Test RMSE</th>\n",
       "    </tr>\n",
       "  </thead>\n",
       "  <tbody>\n",
       "    <tr>\n",
       "      <td>0</td>\n",
       "      <td>0.001</td>\n",
       "      <td>25000</td>\n",
       "      <td>324.274952</td>\n",
       "      <td>330.692754</td>\n",
       "    </tr>\n",
       "  </tbody>\n",
       "</table>\n",
       "</div>"
      ],
      "text/plain": [
       "   Alpha  Epochs  Train RMSE   Test RMSE\n",
       "0  0.001   25000  324.274952  330.692754"
      ]
     },
     "execution_count": 71,
     "metadata": {},
     "output_type": "execute_result"
    }
   ],
   "source": [
    "Rand_LR"
   ]
  },
  {
   "cell_type": "code",
   "execution_count": 72,
   "metadata": {},
   "outputs": [
    {
     "data": {
      "text/html": [
       "<div>\n",
       "<style scoped>\n",
       "    .dataframe tbody tr th:only-of-type {\n",
       "        vertical-align: middle;\n",
       "    }\n",
       "\n",
       "    .dataframe tbody tr th {\n",
       "        vertical-align: top;\n",
       "    }\n",
       "\n",
       "    .dataframe thead th {\n",
       "        text-align: right;\n",
       "    }\n",
       "</style>\n",
       "<table border=\"1\" class=\"dataframe\">\n",
       "  <thead>\n",
       "    <tr style=\"text-align: right;\">\n",
       "      <th></th>\n",
       "      <th>Alpha</th>\n",
       "      <th>Epochs</th>\n",
       "      <th>Train Accuracy</th>\n",
       "      <th>Test Accuracy</th>\n",
       "    </tr>\n",
       "  </thead>\n",
       "  <tbody>\n",
       "    <tr>\n",
       "      <td>0</td>\n",
       "      <td>0.001</td>\n",
       "      <td>15000</td>\n",
       "      <td>60.775559</td>\n",
       "      <td>61.005795</td>\n",
       "    </tr>\n",
       "  </tbody>\n",
       "</table>\n",
       "</div>"
      ],
      "text/plain": [
       "   Alpha  Epochs  Train Accuracy  Test Accuracy\n",
       "0  0.001   15000       60.775559      61.005795"
      ]
     },
     "execution_count": 72,
     "metadata": {},
     "output_type": "execute_result"
    }
   ],
   "source": [
    "Rand_Logit"
   ]
  },
  {
   "cell_type": "code",
   "execution_count": null,
   "metadata": {},
   "outputs": [],
   "source": []
  }
 ],
 "metadata": {
  "kernelspec": {
   "display_name": "Python 3",
   "language": "python",
   "name": "python3"
  },
  "language_info": {
   "codemirror_mode": {
    "name": "ipython",
    "version": 3
   },
   "file_extension": ".py",
   "mimetype": "text/x-python",
   "name": "python",
   "nbconvert_exporter": "python",
   "pygments_lexer": "ipython3",
   "version": "3.7.4"
  }
 },
 "nbformat": 4,
 "nbformat_minor": 2
}
